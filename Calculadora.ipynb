{
 "cells": [
  {
   "cell_type": "code",
   "execution_count": null,
   "metadata": {},
   "outputs": [],
   "source": [
    "opera = input('''\n",
    "Por favor, coloque qual operador deseja:\n",
    "+ for adição\n",
    "- for subtração\n",
    "* for multiplicação\n",
    "/ for divisão\n",
    "''')\n",
    "\n",
    "numero1 = int(input('Coloque seu primeiro número: '))\n",
    "numero2 = int(input('Coloque seu segundo número: '))\n",
    "\n",
    "if opera == '+':\n",
    "    print('{} + {} = '.format(numero1, numero2))\n",
    "    print(numero1 + numero2)\n",
    "\n",
    "elif opera == '-':\n",
    "    print('{} - {} = '.format(numero1, numero2))\n",
    "    print(numero1 - numero2)\n",
    "\n",
    "elif opera == '*':\n",
    "    print('{} * {} = '.format(numero1, numero2))\n",
    "    print(numero1 * numero2)\n",
    "\n",
    "elif opera == '/':\n",
    "    print('{} / {} = '.format(numero1, numero2))\n",
    "    print(numero1 / numero2)\n",
    "\n",
    "else:\n",
    "    print('Você colocou o operador errado, por favor refaça o comando')"
   ]
  },
  {
   "cell_type": "code",
   "execution_count": null,
   "metadata": {},
   "outputs": [],
   "source": []
  },
  {
   "cell_type": "code",
   "execution_count": null,
   "metadata": {},
   "outputs": [],
   "source": []
  }
 ],
 "metadata": {
  "kernelspec": {
   "display_name": "Python 3",
   "language": "python",
   "name": "python3"
  },
  "language_info": {
   "codemirror_mode": {
    "name": "ipython",
    "version": 3
   },
   "file_extension": ".py",
   "mimetype": "text/x-python",
   "name": "python",
   "nbconvert_exporter": "python",
   "pygments_lexer": "ipython3",
   "version": "3.8.3"
  }
 },
 "nbformat": 4,
 "nbformat_minor": 4
}
