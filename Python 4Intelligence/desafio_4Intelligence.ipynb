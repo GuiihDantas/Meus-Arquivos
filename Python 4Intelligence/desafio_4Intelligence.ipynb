{
 "cells": [
  {
   "cell_type": "code",
   "execution_count": null,
   "metadata": {},
   "outputs": [],
   "source": [
    "'''\n",
    "Bom, a minha máquina não suportou trabalhar em cima de um .Json de 6GB.\n",
    "Então decidi mostrar meus conhecimentos em um Json de 300mb que baixei do \n",
    "próprio site que me mandaram.\n",
    "OBS: para a contagem da média do campo stars eu utilizei o campo 'compliment_count'.\n",
    "\n",
    "1- Construa um script que leia o arquivo JSON acima e publique \n",
    "o resultado para outro script processar os dados.\n",
    "\n",
    "2- Para processamento dos dados, construa um script que calcule \n",
    "o número médio de stars para cada business_id e salve o resultado \n",
    "em um banco de dados SQL\n",
    "\n",
    "'''"
   ]
  },
  {
   "cell_type": "code",
   "execution_count": 1,
   "metadata": {},
   "outputs": [],
   "source": [
    "#importando a biblioteca do pandas (https://pandas.pydata.org/)\n",
    "import pandas as pd\n",
    "\n",
    "#biblioteca para ler arquivos json\n",
    "import json\n",
    "\n",
    "#biblioteca para trabalhar com o banco de dados\n",
    "import csv, sqlite3\n",
    "\n",
    "\n"
   ]
  },
  {
   "cell_type": "code",
   "execution_count": 2,
   "metadata": {},
   "outputs": [
    {
     "data": {
      "text/html": [
       "<div>\n",
       "<style scoped>\n",
       "    .dataframe tbody tr th:only-of-type {\n",
       "        vertical-align: middle;\n",
       "    }\n",
       "\n",
       "    .dataframe tbody tr th {\n",
       "        vertical-align: top;\n",
       "    }\n",
       "\n",
       "    .dataframe thead th {\n",
       "        text-align: right;\n",
       "    }\n",
       "</style>\n",
       "<table border=\"1\" class=\"dataframe\">\n",
       "  <thead>\n",
       "    <tr style=\"text-align: right;\">\n",
       "      <th></th>\n",
       "      <th>user_id</th>\n",
       "      <th>business_id</th>\n",
       "      <th>text</th>\n",
       "      <th>date</th>\n",
       "      <th>compliment_count</th>\n",
       "    </tr>\n",
       "  </thead>\n",
       "  <tbody>\n",
       "    <tr>\n",
       "      <th>0</th>\n",
       "      <td>hf27xTME3EiCp6NL6VtWZQ</td>\n",
       "      <td>UYX5zL_Xj9WEc_Wp-FrqHw</td>\n",
       "      <td>Here for a quick mtg</td>\n",
       "      <td>2013-11-26 18:20:08</td>\n",
       "      <td>0</td>\n",
       "    </tr>\n",
       "    <tr>\n",
       "      <th>1</th>\n",
       "      <td>uEvusDwoSymbJJ0auR3muQ</td>\n",
       "      <td>Ch3HkwQYv1YKw_FO06vBWA</td>\n",
       "      <td>Cucumber strawberry refresher</td>\n",
       "      <td>2014-06-15 22:26:45</td>\n",
       "      <td>0</td>\n",
       "    </tr>\n",
       "    <tr>\n",
       "      <th>2</th>\n",
       "      <td>AY-laIws3S7YXNl_f_D6rQ</td>\n",
       "      <td>rDoT-MgxGRiYqCmi0bG10g</td>\n",
       "      <td>Very nice good service good food</td>\n",
       "      <td>2016-07-18 22:03:42</td>\n",
       "      <td>0</td>\n",
       "    </tr>\n",
       "    <tr>\n",
       "      <th>3</th>\n",
       "      <td>Ue_7yUlkEbX4AhnYdUfL7g</td>\n",
       "      <td>OHXnDV01gLokiX1ELaQufA</td>\n",
       "      <td>It's a small place. The staff is friendly.</td>\n",
       "      <td>2014-06-06 01:10:34</td>\n",
       "      <td>0</td>\n",
       "    </tr>\n",
       "    <tr>\n",
       "      <th>4</th>\n",
       "      <td>LltbT_fUMqZ-ZJP-vJ84IQ</td>\n",
       "      <td>GMrwDXRlAZU2zj5nH6l4vQ</td>\n",
       "      <td>8 sandwiches, $24 total...what a bargain!!! An...</td>\n",
       "      <td>2011-04-08 18:12:01</td>\n",
       "      <td>0</td>\n",
       "    </tr>\n",
       "    <tr>\n",
       "      <th>5</th>\n",
       "      <td>HHNBqfbDR8b1iq-QGxu8ww</td>\n",
       "      <td>ALwAlxItASeEs2vYAeLXHA</td>\n",
       "      <td>Great ramen! Not only is the presentation gorg...</td>\n",
       "      <td>2015-05-20 20:17:38</td>\n",
       "      <td>0</td>\n",
       "    </tr>\n",
       "  </tbody>\n",
       "</table>\n",
       "</div>"
      ],
      "text/plain": [
       "                  user_id             business_id  \\\n",
       "0  hf27xTME3EiCp6NL6VtWZQ  UYX5zL_Xj9WEc_Wp-FrqHw   \n",
       "1  uEvusDwoSymbJJ0auR3muQ  Ch3HkwQYv1YKw_FO06vBWA   \n",
       "2  AY-laIws3S7YXNl_f_D6rQ  rDoT-MgxGRiYqCmi0bG10g   \n",
       "3  Ue_7yUlkEbX4AhnYdUfL7g  OHXnDV01gLokiX1ELaQufA   \n",
       "4  LltbT_fUMqZ-ZJP-vJ84IQ  GMrwDXRlAZU2zj5nH6l4vQ   \n",
       "5  HHNBqfbDR8b1iq-QGxu8ww  ALwAlxItASeEs2vYAeLXHA   \n",
       "\n",
       "                                                text                date  \\\n",
       "0                               Here for a quick mtg 2013-11-26 18:20:08   \n",
       "1                      Cucumber strawberry refresher 2014-06-15 22:26:45   \n",
       "2                   Very nice good service good food 2016-07-18 22:03:42   \n",
       "3         It's a small place. The staff is friendly. 2014-06-06 01:10:34   \n",
       "4  8 sandwiches, $24 total...what a bargain!!! An... 2011-04-08 18:12:01   \n",
       "5  Great ramen! Not only is the presentation gorg... 2015-05-20 20:17:38   \n",
       "\n",
       "   compliment_count  \n",
       "0                 0  \n",
       "1                 0  \n",
       "2                 0  \n",
       "3                 0  \n",
       "4                 0  \n",
       "5                 0  "
      ]
     },
     "execution_count": 2,
     "metadata": {},
     "output_type": "execute_result"
    }
   ],
   "source": [
    "#metodo responsavel por realizar a leitura do arquivo\n",
    "df_desafio = pd.read_json('C:/Users/guihb/Desktop/academic.json','r',encoding ='utf-8', lines=True)\n",
    "\n",
    "#com o metodo head, podemos ler a quantidade de linhas que desejamos e verificar a estrutura.\n",
    "df_desafio.head(6)"
   ]
  },
  {
   "cell_type": "code",
   "execution_count": 3,
   "metadata": {},
   "outputs": [
    {
     "data": {
      "text/plain": [
       "(1320761, 5)"
      ]
     },
     "execution_count": 3,
     "metadata": {},
     "output_type": "execute_result"
    }
   ],
   "source": [
    "#Já com o shape, podemos avaliar a quantidade de linhas e colunas do arquivo\n",
    "df_desafio.shape"
   ]
  },
  {
   "cell_type": "code",
   "execution_count": 4,
   "metadata": {},
   "outputs": [
    {
     "data": {
      "text/html": [
       "<div>\n",
       "<style scoped>\n",
       "    .dataframe tbody tr th:only-of-type {\n",
       "        vertical-align: middle;\n",
       "    }\n",
       "\n",
       "    .dataframe tbody tr th {\n",
       "        vertical-align: top;\n",
       "    }\n",
       "\n",
       "    .dataframe thead th {\n",
       "        text-align: right;\n",
       "    }\n",
       "</style>\n",
       "<table border=\"1\" class=\"dataframe\">\n",
       "  <thead>\n",
       "    <tr style=\"text-align: right;\">\n",
       "      <th></th>\n",
       "      <th>compliment_count</th>\n",
       "    </tr>\n",
       "  </thead>\n",
       "  <tbody>\n",
       "    <tr>\n",
       "      <th>count</th>\n",
       "      <td>1.320761e+06</td>\n",
       "    </tr>\n",
       "    <tr>\n",
       "      <th>mean</th>\n",
       "      <td>1.582270e-02</td>\n",
       "    </tr>\n",
       "    <tr>\n",
       "      <th>std</th>\n",
       "      <td>1.421746e-01</td>\n",
       "    </tr>\n",
       "    <tr>\n",
       "      <th>min</th>\n",
       "      <td>0.000000e+00</td>\n",
       "    </tr>\n",
       "    <tr>\n",
       "      <th>25%</th>\n",
       "      <td>0.000000e+00</td>\n",
       "    </tr>\n",
       "    <tr>\n",
       "      <th>50%</th>\n",
       "      <td>0.000000e+00</td>\n",
       "    </tr>\n",
       "    <tr>\n",
       "      <th>75%</th>\n",
       "      <td>0.000000e+00</td>\n",
       "    </tr>\n",
       "    <tr>\n",
       "      <th>max</th>\n",
       "      <td>1.500000e+01</td>\n",
       "    </tr>\n",
       "  </tbody>\n",
       "</table>\n",
       "</div>"
      ],
      "text/plain": [
       "       compliment_count\n",
       "count      1.320761e+06\n",
       "mean       1.582270e-02\n",
       "std        1.421746e-01\n",
       "min        0.000000e+00\n",
       "25%        0.000000e+00\n",
       "50%        0.000000e+00\n",
       "75%        0.000000e+00\n",
       "max        1.500000e+01"
      ]
     },
     "execution_count": 4,
     "metadata": {},
     "output_type": "execute_result"
    }
   ],
   "source": [
    "df_desafio.describe()"
   ]
  },
  {
   "cell_type": "code",
   "execution_count": 56,
   "metadata": {},
   "outputs": [
    {
     "data": {
      "text/html": [
       "<div>\n",
       "<style scoped>\n",
       "    .dataframe tbody tr th:only-of-type {\n",
       "        vertical-align: middle;\n",
       "    }\n",
       "\n",
       "    .dataframe tbody tr th {\n",
       "        vertical-align: top;\n",
       "    }\n",
       "\n",
       "    .dataframe thead th {\n",
       "        text-align: right;\n",
       "    }\n",
       "</style>\n",
       "<table border=\"1\" class=\"dataframe\">\n",
       "  <thead>\n",
       "    <tr style=\"text-align: right;\">\n",
       "      <th></th>\n",
       "      <th>business_id</th>\n",
       "      <th>compliment_count</th>\n",
       "      <th>qtde</th>\n",
       "    </tr>\n",
       "  </thead>\n",
       "  <tbody>\n",
       "    <tr>\n",
       "      <th>0</th>\n",
       "      <td>--1UhMGODdWsrMastO9DZw</td>\n",
       "      <td>0</td>\n",
       "      <td>3</td>\n",
       "    </tr>\n",
       "    <tr>\n",
       "      <th>1</th>\n",
       "      <td>--6MefnULPED_I942VcFNA</td>\n",
       "      <td>0</td>\n",
       "      <td>15</td>\n",
       "    </tr>\n",
       "    <tr>\n",
       "      <th>2</th>\n",
       "      <td>--7zmmkVg-IMGaXbuVd0SQ</td>\n",
       "      <td>0</td>\n",
       "      <td>11</td>\n",
       "    </tr>\n",
       "    <tr>\n",
       "      <th>3</th>\n",
       "      <td>--9QQLMTbFzLJ_oT-ON3Xw</td>\n",
       "      <td>0</td>\n",
       "      <td>3</td>\n",
       "    </tr>\n",
       "    <tr>\n",
       "      <th>4</th>\n",
       "      <td>--9e1ONYQuAa-CB_Rrw7Tw</td>\n",
       "      <td>3</td>\n",
       "      <td>176</td>\n",
       "    </tr>\n",
       "    <tr>\n",
       "      <th>...</th>\n",
       "      <td>...</td>\n",
       "      <td>...</td>\n",
       "      <td>...</td>\n",
       "    </tr>\n",
       "    <tr>\n",
       "      <th>132695</th>\n",
       "      <td>zztHqd_3ULxuIS8lkhYdwg</td>\n",
       "      <td>0</td>\n",
       "      <td>2</td>\n",
       "    </tr>\n",
       "    <tr>\n",
       "      <th>132696</th>\n",
       "      <td>zzwaS0xn1MVEPEf0hNLjew</td>\n",
       "      <td>0</td>\n",
       "      <td>21</td>\n",
       "    </tr>\n",
       "    <tr>\n",
       "      <th>132697</th>\n",
       "      <td>zzwhN7x37nyjP0ZM8oiHmw</td>\n",
       "      <td>0</td>\n",
       "      <td>6</td>\n",
       "    </tr>\n",
       "    <tr>\n",
       "      <th>132698</th>\n",
       "      <td>zzwicjPC9g246MK2M1ZFBA</td>\n",
       "      <td>1</td>\n",
       "      <td>15</td>\n",
       "    </tr>\n",
       "    <tr>\n",
       "      <th>132699</th>\n",
       "      <td>zzzaIBwimxVej4tY6qFOUQ</td>\n",
       "      <td>0</td>\n",
       "      <td>22</td>\n",
       "    </tr>\n",
       "  </tbody>\n",
       "</table>\n",
       "<p>132700 rows × 3 columns</p>\n",
       "</div>"
      ],
      "text/plain": [
       "                   business_id  compliment_count  qtde\n",
       "0       --1UhMGODdWsrMastO9DZw                 0     3\n",
       "1       --6MefnULPED_I942VcFNA                 0    15\n",
       "2       --7zmmkVg-IMGaXbuVd0SQ                 0    11\n",
       "3       --9QQLMTbFzLJ_oT-ON3Xw                 0     3\n",
       "4       --9e1ONYQuAa-CB_Rrw7Tw                 3   176\n",
       "...                        ...               ...   ...\n",
       "132695  zztHqd_3ULxuIS8lkhYdwg                 0     2\n",
       "132696  zzwaS0xn1MVEPEf0hNLjew                 0    21\n",
       "132697  zzwhN7x37nyjP0ZM8oiHmw                 0     6\n",
       "132698  zzwicjPC9g246MK2M1ZFBA                 1    15\n",
       "132699  zzzaIBwimxVej4tY6qFOUQ                 0    22\n",
       "\n",
       "[132700 rows x 3 columns]"
      ]
     },
     "execution_count": 56,
     "metadata": {},
     "output_type": "execute_result"
    }
   ],
   "source": [
    "#Nesta etapa eu criei uma nova coluna para contabilizar todas as linhas para que eu conseguisse agrupar e saber o total de compliment_count por business_id.\n",
    "df_desafio['qtde'] = 1\n",
    "#Qual é a quantidade média do compliment_count por business_id, agrupando pelo o mesmo.\n",
    "df_media = df_desafio[['business_id','compliment_count','qtde']].groupby(['business_id'], as_index = False).sum()\n",
    "df_media"
   ]
  },
  {
   "cell_type": "code",
   "execution_count": 50,
   "metadata": {},
   "outputs": [],
   "source": [
    "#exportando resultado para trabalhar com o banco de dados\n",
    "export_csv = df_media1.to_csv('C:/Users/guihb/Desktop/media2.csv', encoding = 'utf-8', index=False, header=True)"
   ]
  },
  {
   "cell_type": "code",
   "execution_count": 38,
   "metadata": {},
   "outputs": [],
   "source": [
    "#acesando o .csv e salvando o resultado em um banco de dados SQL.\n",
    "\n",
    "#conectar a um banco de dados\n",
    "con = sqlite3.connect(\"media1.sql3\")\n",
    "cur = con.cursor()\n",
    "#Criar uma tabela com os mesmos campos do arquivo .csv\n",
    "cur.execute(\"CREATE TABLE media_intelligence (business_id varchar PRIMARY KEY, compliment_count INTEGER, qtde TEXT);\") # use your column names here\n",
    "#abrir o arquivo .csv para ingestão dos dados\n",
    "with open('C:/Users/guihb/Desktop/media1.csv','r') as fin: \n",
    "    dr = csv.DictReader(fin) \n",
    "    to_db = [(i['business_id'], i['compliment_count'], i['qtde']) for i in dr]\n",
    "#inserir os dados na tabela criada\n",
    "cur.executemany(\"INSERT INTO media_intelligence (business_id, compliment_count, qtde ) VALUES (?, ?, ?);\", to_db)\n",
    "con.commit()\n",
    "con.close()"
   ]
  },
  {
   "cell_type": "code",
   "execution_count": 53,
   "metadata": {},
   "outputs": [],
   "source": [
    "#conectar ao banco de dados \n",
    "conn = sqlite3.connect('media1.sql3')\n",
    "cur = conn.cursor()"
   ]
  },
  {
   "cell_type": "code",
   "execution_count": 62,
   "metadata": {},
   "outputs": [
    {
     "data": {
      "text/plain": [
       "<sqlite3.Cursor at 0x1bf2cae0c00>"
      ]
     },
     "execution_count": 62,
     "metadata": {},
     "output_type": "execute_result"
    }
   ],
   "source": [
    "#fazer uma consulta simples com os 20 primeiros dados para ver se foram carregados com sucesso\n",
    "cur.execute(\"\"\"\n",
    "SELECT * FROM media_intelligence \n",
    "LIMIT 20;\n",
    "\"\"\")"
   ]
  },
  {
   "cell_type": "code",
   "execution_count": 63,
   "metadata": {
    "scrolled": false
   },
   "outputs": [
    {
     "name": "stdout",
     "output_type": "stream",
     "text": [
      "[('--1UhMGODdWsrMastO9DZw', 0, '3'), ('--6MefnULPED_I942VcFNA', 0, '15'), ('--7zmmkVg-IMGaXbuVd0SQ', 0, '11'), ('--9QQLMTbFzLJ_oT-ON3Xw', 0, '3'), ('--9e1ONYQuAa-CB_Rrw7Tw', 3, '176'), ('--DaPTJW3-tB1vP-PfdTEg', 0, '4'), ('--DdmeR16TRb3LsjG0ejrQ', 1, '4'), ('--EX4rRznJrltyn-34Jz1w', 0, '2'), ('--FBCX-N37CMYDfs790Bnw', 1, '44'), ('--FnvijzY20d1nk9H7fk9w', 0, '1'), ('--GM_ORV2cYS-h38DSaCLw', 0, '2'), ('--I7YYLada0tSLkORTHb5Q', 0, '9'), ('--KCl2FvVQpvjzmZSPyviA', 0, '5'), ('--KQsXc-clkO7oHRqGzSzg', 0, '15'), ('--Ni3oJ4VOqfOEu7Sj2Vzg', 0, '1'), ('--Rsj71PBe31h5YljVseKA', 0, '5'), ('--S62v0QgkqQaVUhFnNHrw', 0, '9'), ('--SrzpvFLwP_YFwB_Cetow', 0, '9'), ('--TcDRzRIxhvHM4DSgEuMA', 0, '1'), ('--U98MNlDym2cLn36BBPgQ', 0, '1')]\n"
     ]
    }
   ],
   "source": [
    "#visualizar os dados dentro do banco de dados.\n",
    "results = cur.fetchall()\n",
    "print(results)\n"
   ]
  },
  {
   "cell_type": "code",
   "execution_count": 65,
   "metadata": {},
   "outputs": [
    {
     "data": {
      "text/html": [
       "<div>\n",
       "<style scoped>\n",
       "    .dataframe tbody tr th:only-of-type {\n",
       "        vertical-align: middle;\n",
       "    }\n",
       "\n",
       "    .dataframe tbody tr th {\n",
       "        vertical-align: top;\n",
       "    }\n",
       "\n",
       "    .dataframe thead th {\n",
       "        text-align: right;\n",
       "    }\n",
       "</style>\n",
       "<table border=\"1\" class=\"dataframe\">\n",
       "  <thead>\n",
       "    <tr style=\"text-align: right;\">\n",
       "      <th></th>\n",
       "      <th>business_id</th>\n",
       "      <th>compliment_count</th>\n",
       "      <th>qtde</th>\n",
       "    </tr>\n",
       "  </thead>\n",
       "  <tbody>\n",
       "    <tr>\n",
       "      <th>0</th>\n",
       "      <td>--1UhMGODdWsrMastO9DZw</td>\n",
       "      <td>0</td>\n",
       "      <td>3</td>\n",
       "    </tr>\n",
       "    <tr>\n",
       "      <th>1</th>\n",
       "      <td>--6MefnULPED_I942VcFNA</td>\n",
       "      <td>0</td>\n",
       "      <td>15</td>\n",
       "    </tr>\n",
       "    <tr>\n",
       "      <th>2</th>\n",
       "      <td>--7zmmkVg-IMGaXbuVd0SQ</td>\n",
       "      <td>0</td>\n",
       "      <td>11</td>\n",
       "    </tr>\n",
       "    <tr>\n",
       "      <th>3</th>\n",
       "      <td>--9QQLMTbFzLJ_oT-ON3Xw</td>\n",
       "      <td>0</td>\n",
       "      <td>3</td>\n",
       "    </tr>\n",
       "    <tr>\n",
       "      <th>4</th>\n",
       "      <td>--9e1ONYQuAa-CB_Rrw7Tw</td>\n",
       "      <td>3</td>\n",
       "      <td>176</td>\n",
       "    </tr>\n",
       "    <tr>\n",
       "      <th>5</th>\n",
       "      <td>--DaPTJW3-tB1vP-PfdTEg</td>\n",
       "      <td>0</td>\n",
       "      <td>4</td>\n",
       "    </tr>\n",
       "    <tr>\n",
       "      <th>6</th>\n",
       "      <td>--DdmeR16TRb3LsjG0ejrQ</td>\n",
       "      <td>1</td>\n",
       "      <td>4</td>\n",
       "    </tr>\n",
       "    <tr>\n",
       "      <th>7</th>\n",
       "      <td>--EX4rRznJrltyn-34Jz1w</td>\n",
       "      <td>0</td>\n",
       "      <td>2</td>\n",
       "    </tr>\n",
       "    <tr>\n",
       "      <th>8</th>\n",
       "      <td>--FBCX-N37CMYDfs790Bnw</td>\n",
       "      <td>1</td>\n",
       "      <td>44</td>\n",
       "    </tr>\n",
       "    <tr>\n",
       "      <th>9</th>\n",
       "      <td>--FnvijzY20d1nk9H7fk9w</td>\n",
       "      <td>0</td>\n",
       "      <td>1</td>\n",
       "    </tr>\n",
       "  </tbody>\n",
       "</table>\n",
       "</div>"
      ],
      "text/plain": [
       "              business_id  compliment_count qtde\n",
       "0  --1UhMGODdWsrMastO9DZw                 0    3\n",
       "1  --6MefnULPED_I942VcFNA                 0   15\n",
       "2  --7zmmkVg-IMGaXbuVd0SQ                 0   11\n",
       "3  --9QQLMTbFzLJ_oT-ON3Xw                 0    3\n",
       "4  --9e1ONYQuAa-CB_Rrw7Tw                 3  176\n",
       "5  --DaPTJW3-tB1vP-PfdTEg                 0    4\n",
       "6  --DdmeR16TRb3LsjG0ejrQ                 1    4\n",
       "7  --EX4rRznJrltyn-34Jz1w                 0    2\n",
       "8  --FBCX-N37CMYDfs790Bnw                 1   44\n",
       "9  --FnvijzY20d1nk9H7fk9w                 0    1"
      ]
     },
     "execution_count": 65,
     "metadata": {},
     "output_type": "execute_result"
    }
   ],
   "source": [
    "#Para uma melhor visualização, os 10 primeiros. \n",
    "df = pd.read_sql_query(\"SELECT * FROM media_intelligence LIMIT 10\", conn)\n",
    "df\n"
   ]
  },
  {
   "cell_type": "code",
   "execution_count": 66,
   "metadata": {},
   "outputs": [
    {
     "data": {
      "text/plain": [
       "<matplotlib.axes._subplots.AxesSubplot at 0x1bf33a61be0>"
      ]
     },
     "execution_count": 66,
     "metadata": {},
     "output_type": "execute_result"
    },
    {
     "data": {
      "image/png": "[encoded data removed]",
      "text/plain": [
       "<Figure size 432x288 with 1 Axes>"
      ]
     },
     "metadata": {
      "needs_background": "light"
     },
     "output_type": "display_data"
    }
   ],
   "source": [
    "df.plot(kind='bar' , title = 'Gráfico de Barra')"
   ]
  },
  {
   "cell_type": "code",
   "execution_count": null,
   "metadata": {},
   "outputs": [],
   "source": []
  }
 ],
 "metadata": {
  "kernelspec": {
   "display_name": "Python 3",
   "language": "python",
   "name": "python3"
  },
  "language_info": {
   "codemirror_mode": {
    "name": "ipython",
    "version": 3
   },
   "file_extension": ".py",
   "mimetype": "text/x-python",
   "name": "python",
   "nbconvert_exporter": "python",
   "pygments_lexer": "ipython3",
   "version": "3.8.3"
  }
 },
 "nbformat": 4,
 "nbformat_minor": 4
}
