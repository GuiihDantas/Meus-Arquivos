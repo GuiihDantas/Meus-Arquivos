{
 "cells": [
  {
   "cell_type": "code",
   "execution_count": null,
   "metadata": {},
   "outputs": [],
   "source": [
    "notas = [9,6,7,3,8,8,\"oito\", \"A\", \"C\"]\n",
    "notas.remove('A')\n",
    "notas.remove('oito')\n",
    "notas.remove('C')\n",
    "total = len(notas)\n",
    "soma = 0\n",
    "for n in notas:\n",
    "    soma = soma + n\n",
    "print('O Resultado da Média é:', round(soma/total,3))"
   ]
  }
 ],
 "metadata": {
  "kernelspec": {
   "display_name": "Python 3",
   "language": "python",
   "name": "python3"
  },
  "language_info": {
   "codemirror_mode": {
    "name": "ipython",
    "version": 3
   },
   "file_extension": ".py",
   "mimetype": "text/x-python",
   "name": "python",
   "nbconvert_exporter": "python",
   "pygments_lexer": "ipython3",
   "version": "3.8.3"
  }
 },
 "nbformat": 4,
 "nbformat_minor": 4
}
