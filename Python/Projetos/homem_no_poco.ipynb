{
 "cells": [
  {
   "cell_type": "code",
   "execution_count": null,
   "metadata": {},
   "outputs": [],
   "source": [
    "'''Um homem esta em um poço com 10 metros de profundidade, \n",
    "durante o dia ele sobe 2 metros e a noite desce um metro.\n",
    "Construa uma classe que resolverá esse problema. \n",
    "obrigatoriamente ela tem que ter 2 metros, um metodo sobe e outro metodo desce.\n",
    "'''   "
   ]
  },
  {
   "cell_type": "code",
   "execution_count": 3,
   "metadata": {},
   "outputs": [
    {
     "name": "stdout",
     "output_type": "stream",
     "text": [
      "Homem no Poço: True\n",
      "Inicia em : 0\n",
      "sobe de dia = 2\n",
      "desce de noite = 1\n",
      "sobe de dia = 3\n",
      "desce de noite = 2\n",
      "sobe de dia = 4\n",
      "desce de noite = 3\n",
      "sobe de dia = 5\n",
      "desce de noite = 4\n",
      "sobe de dia = 6\n",
      "desce de noite = 5\n",
      "sobe de dia = 7\n",
      "desce de noite = 6\n",
      "sobe de dia = 8\n",
      "desce de noite = 7\n",
      "sobe de dia = 9\n",
      "desce de noite = 8\n",
      "sobe de dia = 10\n"
     ]
    }
   ],
   "source": [
    "class homem_poco():\n",
    "\n",
    "    def desce_de_noite(self):\n",
    "        self.metros -= 1\n",
    "\n",
    "    def sobe_de_dia(self):\n",
    "        self.metros += 2\n",
    "\n",
    "if __name__ == '__main__':\n",
    "    poco = homem_poco()\n",
    "    \n",
    "    poco.ele_caiu = True\n",
    "    poco.ele_não_caiu = False\n",
    "    poco.metros = 0\n",
    "\n",
    "    print('Homem no Poço:', poco.ele_caiu)\n",
    "    print('Inicia em :', poco.metros)\n",
    "    poco.sobe_de_dia()\n",
    "    print('sobe de dia =', poco.metros)\n",
    "    poco.desce_de_noite()\n",
    "    print('desce de noite =', poco.metros)\n",
    "    poco.sobe_de_dia()\n",
    "    print('sobe de dia =', poco.metros)\n",
    "    poco.desce_de_noite()\n",
    "    print('desce de noite =', poco.metros)\n",
    "    poco.sobe_de_dia()\n",
    "    print('sobe de dia =', poco.metros)\n",
    "    poco.desce_de_noite()\n",
    "    print('desce de noite =', poco.metros)\n",
    "    poco.sobe_de_dia()\n",
    "    print('sobe de dia =', poco.metros)\n",
    "    poco.desce_de_noite()\n",
    "    print('desce de noite =', poco.metros)\n",
    "    poco.sobe_de_dia()\n",
    "    print('sobe de dia =', poco.metros)\n",
    "    poco.desce_de_noite()\n",
    "    print('desce de noite =', poco.metros)\n",
    "    poco.sobe_de_dia()\n",
    "    print('sobe de dia =', poco.metros)\n",
    "    poco.desce_de_noite()\n",
    "    print('desce de noite =', poco.metros)\n",
    "    poco.sobe_de_dia()\n",
    "    print('sobe de dia =', poco.metros)\n",
    "    poco.desce_de_noite()\n",
    "    print('desce de noite =', poco.metros)\n",
    "    poco.sobe_de_dia()\n",
    "    print('sobe de dia =', poco.metros)\n",
    "    poco.desce_de_noite()\n",
    "    print('desce de noite =', poco.metros)\n",
    "    poco.sobe_de_dia()\n",
    "    print('sobe de dia =', poco.metros)"
   ]
  },
  {
   "cell_type": "code",
   "execution_count": null,
   "metadata": {},
   "outputs": [],
   "source": []
  }
 ],
 "metadata": {
  "kernelspec": {
   "display_name": "Python 3",
   "language": "python",
   "name": "python3"
  },
  "language_info": {
   "codemirror_mode": {
    "name": "ipython",
    "version": 3
   },
   "file_extension": ".py",
   "mimetype": "text/x-python",
   "name": "python",
   "nbconvert_exporter": "python",
   "pygments_lexer": "ipython3",
   "version": "3.8.3"
  }
 },
 "nbformat": 4,
 "nbformat_minor": 4
}
