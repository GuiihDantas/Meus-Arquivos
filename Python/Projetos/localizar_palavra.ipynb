{
 "cells": [
  {
   "cell_type": "code",
   "execution_count": 15,
   "metadata": {},
   "outputs": [
    {
     "name": "stdout",
     "output_type": "stream",
     "text": [
      "Existem: 27 ocorrências da palavra \"trabalho\" para esta consulta.. Segue as frases com as ocorrências:\n",
      "[28/04/2020 19:27:58] Luiza: Cheguei agora do trabalho\n",
      "\n",
      "[14/05/2020 19:02:05] Lais MBA: Boa noite. Pessoal, peço desculpas pois não olhei o trabalho finalizado. Não tive tempo\n",
      "\n",
      "[01/06/2020 19:44:22] Luiza: venho por meio desta comunicar que o sistema está com problemas para abrir arquivos, consequentemente para fazer trabalhos\n",
      "\n",
      "[01/06/2020 19:50:02] Tati: Que chato tudo isso. Com trabalhos em andamento, isso é lamentável.\n",
      "\n",
      "[01/06/2020 20:44:24] ‪+55 11 98934‑9779‬: Galera, esse trabalho do estudo de caso é para amanhã ou quinta feira? Meu grupo tá em dúvida quanto a data de entrega\n",
      "\n",
      "[04/06/2020 08:40:59] Luiza: Pessoal alguém sabe quando acaba os trabalhos de startups e liderança?\n",
      "\n",
      "[17/06/2020 12:14:42] Luiza: eu dou aula para pessoas dos EUA de SQL, então enfim, é possivel, e espero Mathias que fiquei mais puxado o curso, pq os profs usam muito tempo para trabalho em grupo e palestra\n",
      "\n",
      "[17/06/2020 12:34:09] Luiza: Minha queixa e contra este grupo de 100 pessoas e o excesso de trabalho e pouca matéria\n",
      "\n",
      "[22/06/2020 10:44:28] ‪+55 11 98316‑1565‬: não sei se já ouviram falar sobre os modelos de trabalho do Spotify\n",
      "\n",
      "[01/07/2020 20:37:26] ‪+55 11 98316‑1565‬: Hoje submeti uma pesquisa com os funcionários da minha empresa no mesmo sentido de home office ou trabalho no escritório.. para ter ideia do que o pessoal pensava\n",
      "\n",
      "[03/07/2020 21:43:28] ‪+55 11 98316‑1565‬: É muito importante verem esse email e testarem tudo antes das aulas, será muito importante para o curso todo. Presencial ou remotamente é essa plataforma que utilizamos para coletar os trabalhos, trocar emails, avaliações, notas e compartilhamento dos materiais\n",
      "\n",
      "[08/07/2020 12:19:42] ‪+55 11 94904‑8485‬: Onde trabalho tenho alguns dashboards em QlikView porém estou estudando Power BI e quero implantá-lo. Como estou montando um relatório de prós e contras dos 2 softwares, gostaria de trocar uma ideia com quem já é usuário de QlikView. 😃\n",
      "\n",
      "[09/07/2020 19:08:05] Luiza: Tá osso de tanto trabalho\n",
      "\n",
      "[11/08/2020 17:33:57] ‪+55 11 98934‑9779‬: Galera, teremos avaliação de cloud além do trabalho sobre monkey test?\n",
      "\n",
      "[11/08/2020 17:46:37] ‪+55 11 95656‑2261‬: Pessoal boa tarde, o trabalho de DATA MODELING, tem que escolher um dos temas e falar a respeito, correto?\n",
      "\n",
      "[11/08/2020 20:27:49] ‪+55 11 96473‑6071‬: Gente dimuni o volume pra conseguir terminar o trabalho.\n",
      "\n",
      "[11/08/2020 20:29:44] Luiza Trabalho: E 2 horas de trabalho fácil\n",
      "\n",
      "[11/08/2020 20:30:09] ‪+55 11 96473‑6071‬: Entedeu ele volta só pra tirar dúvidas do trabalho então\n",
      "\n",
      "[11/08/2020 20:30:45] Luiza Trabalho: Ele falou que ia dar trabalho Carol\n",
      "\n",
      "[11/08/2020 20:32:42] Lais MBA: Ele falou que vai ter aula prática e depois o trabalho\n",
      "\n",
      "[11/08/2020 22:15:00] Andreeee: a gente envia o word ali no \"seus trabalhos\" no classroom ne?\n",
      "\n",
      "[13/08/2020 18:12:36] ‪+55 11 98667‑5675‬: Professor @5513981777778 estou em reunião do trabalho até às 20h da noite. Vou estar ligado na aula mas sem assistir a 1h... Vc vai passar matéria antes da avaliação certo?!\n",
      "\n",
      "[18/08/2020 18:12:54] Guilherme: @5511983161565 vou me atrasar para sua aula, surgiu um problema aqui no trabalho. Só para avisar\n",
      "\n",
      "[19/08/2020 16:59:15] Anderson: Aonde eu trabalho, o pessoal de MIS, tem um perfil parecido com aquilo que vc prefere, porém quem acaba crescendo e se destacando é a galera que une a parte técnica de programação e quem sabe gerir o negócio que envolve gestao de prazos, pessoas e etc.\n",
      "\n",
      "[19/08/2020 17:35:08] Luiza: meu trabalho usa pacas\n",
      "\n",
      "[20/08/2020 12:04:30] ‪+55 13 98177‑7778‬: quero colocar vcs muito no jogo do mercado de trabalho\n",
      "\n",
      "[20/08/2020 15:17:30] Luiza: Já sei p quem pedir ajyda no trabalho do Mathias kkk\n",
      "\n"
     ]
    }
   ],
   "source": [
    "with open (\"chat1.txt\",\"r\", encoding = 'utf-8') as arq:\n",
    "    ocorrencias = arq.read().count('trabalho')\n",
    "print('Existem:' ,ocorrencias, 'ocorrências da palavra \"trabalho\" para esta consulta.. Segue as frases com as ocorrências:')\n",
    "\n",
    "with open(\"chat1.txt\",\"r\", encoding = 'utf-8') as arq:\n",
    "    for f in arq.readlines():\n",
    "        if(f.find('trabalho')>-1):\n",
    "            print(f)"
   ]
  }
 ],
 "metadata": {
  "kernelspec": {
   "display_name": "Python 3",
   "language": "python",
   "name": "python3"
  },
  "language_info": {
   "codemirror_mode": {
    "name": "ipython",
    "version": 3
   },
   "file_extension": ".py",
   "mimetype": "text/x-python",
   "name": "python",
   "nbconvert_exporter": "python",
   "pygments_lexer": "ipython3",
   "version": "3.8.3"
  }
 },
 "nbformat": 4,
 "nbformat_minor": 4
}
