{
 "cells": [
  {
   "cell_type": "code",
   "execution_count": null,
   "metadata": {},
   "outputs": [],
   "source": [
    "'''3 arquivos estão sendo postados aqui: cadastro.csv; preço da gasolina.csv; salario_professioes.csv.\n",
    "Diante desses 3 arquivos, o trabalho deve responder as seguintes perguntas:\n",
    "\n",
    "Qual a idade média das pessoas no cadastro ?\n",
    "Quantos homens tem no cadastro ?\n",
    "Quantas mulheres tem no cadastro ?\n",
    "Qual a idade média dos homens e das mulheres ?\n",
    "Crie um gráfico de barras e mostre a distribuição de escolaridade no cadastro ?\n",
    "Mostre a Média Salarial do cadastro ?\n",
    "Quem tem o maior salário ?\n",
    "Tirando desempregado quem recebe menos ?\n",
    "Quantas pessoas gostam de caminhar no final de semana ?\n",
    "Crie um gráfico mostrando entre a relação de escolaridade e quem pratica esporte ?\n",
    "Crie um mapa de calor ?\n",
    "Mostre de forma gráfica a distribuição de estados do cadastro ?'''"
   ]
  },
  {
   "cell_type": "code",
   "execution_count": 228,
   "metadata": {},
   "outputs": [
    {
     "data": {
      "text/html": [
       "<div>\n",
       "<style scoped>\n",
       "    .dataframe tbody tr th:only-of-type {\n",
       "        vertical-align: middle;\n",
       "    }\n",
       "\n",
       "    .dataframe tbody tr th {\n",
       "        vertical-align: top;\n",
       "    }\n",
       "\n",
       "    .dataframe thead th {\n",
       "        text-align: right;\n",
       "    }\n",
       "</style>\n",
       "<table border=\"1\" class=\"dataframe\">\n",
       "  <thead>\n",
       "    <tr style=\"text-align: right;\">\n",
       "      <th></th>\n",
       "      <th>nome</th>\n",
       "      <th>sobrenome</th>\n",
       "      <th>ano_nascimento</th>\n",
       "      <th>sexo</th>\n",
       "      <th>cidade</th>\n",
       "      <th>profissão</th>\n",
       "      <th>experiencia profissional</th>\n",
       "      <th>estado_civil</th>\n",
       "      <th>filhos</th>\n",
       "      <th>lazer_final_de_semana</th>\n",
       "      <th>pratica_esporte</th>\n",
       "      <th>qual_esporte</th>\n",
       "      <th>quanta_vezes_na_semana_pratica_esporte</th>\n",
       "      <th>tem carro</th>\n",
       "      <th>escolaridade</th>\n",
       "    </tr>\n",
       "  </thead>\n",
       "  <tbody>\n",
       "    <tr>\n",
       "      <th>0</th>\n",
       "      <td>Dirceu</td>\n",
       "      <td>Manolo</td>\n",
       "      <td>1985</td>\n",
       "      <td>m</td>\n",
       "      <td>São Vicente</td>\n",
       "      <td>Cientista de Dados</td>\n",
       "      <td>4</td>\n",
       "      <td>Casado</td>\n",
       "      <td>1</td>\n",
       "      <td>estudar, academia, jogar video game,surfar</td>\n",
       "      <td>sim</td>\n",
       "      <td>academia</td>\n",
       "      <td>3.0</td>\n",
       "      <td>sim</td>\n",
       "      <td>Ensino Superior</td>\n",
       "    </tr>\n",
       "    <tr>\n",
       "      <th>1</th>\n",
       "      <td>Maria</td>\n",
       "      <td>Silva</td>\n",
       "      <td>1970</td>\n",
       "      <td>f</td>\n",
       "      <td>Santos</td>\n",
       "      <td>dona de casa</td>\n",
       "      <td>2</td>\n",
       "      <td>Casada</td>\n",
       "      <td>3</td>\n",
       "      <td>ver tv</td>\n",
       "      <td>não</td>\n",
       "      <td>-</td>\n",
       "      <td>0.0</td>\n",
       "      <td>não</td>\n",
       "      <td>Ensino Médio</td>\n",
       "    </tr>\n",
       "    <tr>\n",
       "      <th>2</th>\n",
       "      <td>Adalberto</td>\n",
       "      <td>Martins</td>\n",
       "      <td>1990</td>\n",
       "      <td>m</td>\n",
       "      <td>São Paulo</td>\n",
       "      <td>desempregado</td>\n",
       "      <td>0</td>\n",
       "      <td>Solteiro</td>\n",
       "      <td>1</td>\n",
       "      <td>jogar bola</td>\n",
       "      <td>sim</td>\n",
       "      <td>jogo bola</td>\n",
       "      <td>2.0</td>\n",
       "      <td>sim</td>\n",
       "      <td>Ensino Superior</td>\n",
       "    </tr>\n",
       "    <tr>\n",
       "      <th>3</th>\n",
       "      <td>João</td>\n",
       "      <td>Aparecido</td>\n",
       "      <td>1950</td>\n",
       "      <td>m</td>\n",
       "      <td>Monte Alto</td>\n",
       "      <td>Gerente de Projeto</td>\n",
       "      <td>3</td>\n",
       "      <td>Viuvo</td>\n",
       "      <td>2</td>\n",
       "      <td>Nã faço nada</td>\n",
       "      <td>NaN</td>\n",
       "      <td>-</td>\n",
       "      <td>NaN</td>\n",
       "      <td>sim</td>\n",
       "      <td>Ensino Superior</td>\n",
       "    </tr>\n",
       "    <tr>\n",
       "      <th>4</th>\n",
       "      <td>Marta</td>\n",
       "      <td>da Silva</td>\n",
       "      <td>1983</td>\n",
       "      <td>f</td>\n",
       "      <td>São Caetano</td>\n",
       "      <td>Auxiliar de Enfermagem</td>\n",
       "      <td>2</td>\n",
       "      <td>Solteira</td>\n",
       "      <td>0</td>\n",
       "      <td>caminhar</td>\n",
       "      <td>sim</td>\n",
       "      <td>crossfit</td>\n",
       "      <td>4.0</td>\n",
       "      <td>não</td>\n",
       "      <td>Ensimo Tecnico</td>\n",
       "    </tr>\n",
       "  </tbody>\n",
       "</table>\n",
       "</div>"
      ],
      "text/plain": [
       "        nome  sobrenome  ano_nascimento sexo       cidade  \\\n",
       "0     Dirceu     Manolo            1985    m  São Vicente   \n",
       "1      Maria      Silva            1970    f       Santos   \n",
       "2  Adalberto    Martins            1990    m    São Paulo   \n",
       "3       João  Aparecido            1950    m   Monte Alto   \n",
       "4      Marta   da Silva            1983    f  São Caetano   \n",
       "\n",
       "                profissão  experiencia profissional estado_civil  filhos  \\\n",
       "0      Cientista de Dados                         4       Casado       1   \n",
       "1            dona de casa                         2       Casada       3   \n",
       "2            desempregado                         0     Solteiro       1   \n",
       "3      Gerente de Projeto                         3        Viuvo       2   \n",
       "4  Auxiliar de Enfermagem                         2     Solteira       0   \n",
       "\n",
       "                        lazer_final_de_semana pratica_esporte qual_esporte  \\\n",
       "0  estudar, academia, jogar video game,surfar             sim     academia   \n",
       "1                                      ver tv             não            -   \n",
       "2                                  jogar bola             sim    jogo bola   \n",
       "3                                Nã faço nada             NaN            -   \n",
       "4                                    caminhar             sim     crossfit   \n",
       "\n",
       "   quanta_vezes_na_semana_pratica_esporte tem carro     escolaridade  \n",
       "0                                     3.0       sim  Ensino Superior  \n",
       "1                                     0.0       não     Ensino Médio  \n",
       "2                                     2.0       sim  Ensino Superior  \n",
       "3                                     NaN       sim  Ensino Superior  \n",
       "4                                     4.0       não   Ensimo Tecnico  "
      ]
     },
     "execution_count": 228,
     "metadata": {},
     "output_type": "execute_result"
    }
   ],
   "source": [
    "import pandas as pd\n",
    "\n",
    "df = pd.read_csv('cadastro - cadastro.csv')\n",
    "df.head()"
   ]
  },
  {
   "cell_type": "code",
   "execution_count": 238,
   "metadata": {},
   "outputs": [
    {
     "name": "stdout",
     "output_type": "stream",
     "text": [
      "A Média das Pessoas com base no ano_nascimento    33.0\n",
      "dtype: float64\n"
     ]
    }
   ],
   "source": [
    "#Qual a idade média das pessoas no cadastro?\n",
    "cadastro_df = pd.read_csv('cadastro - cadastro.csv')\n",
    "idade_df = cadastro_df[[\"ano_nascimento\"]].mean() \n",
    "print('A Média das Pessoas com base no', round(2020 - idade_df))\n",
    "\n"
   ]
  },
  {
   "cell_type": "code",
   "execution_count": 239,
   "metadata": {},
   "outputs": [
    {
     "data": {
      "text/html": [
       "<div>\n",
       "<style scoped>\n",
       "    .dataframe tbody tr th:only-of-type {\n",
       "        vertical-align: middle;\n",
       "    }\n",
       "\n",
       "    .dataframe tbody tr th {\n",
       "        vertical-align: top;\n",
       "    }\n",
       "\n",
       "    .dataframe thead th {\n",
       "        text-align: right;\n",
       "    }\n",
       "</style>\n",
       "<table border=\"1\" class=\"dataframe\">\n",
       "  <thead>\n",
       "    <tr style=\"text-align: right;\">\n",
       "      <th></th>\n",
       "      <th>nome</th>\n",
       "    </tr>\n",
       "    <tr>\n",
       "      <th>sexo</th>\n",
       "      <th></th>\n",
       "    </tr>\n",
       "  </thead>\n",
       "  <tbody>\n",
       "    <tr>\n",
       "      <th>Homens</th>\n",
       "      <td>16</td>\n",
       "    </tr>\n",
       "  </tbody>\n",
       "</table>\n",
       "</div>"
      ],
      "text/plain": [
       "        nome\n",
       "sexo        \n",
       "Homens    16"
      ]
     },
     "execution_count": 239,
     "metadata": {},
     "output_type": "execute_result"
    }
   ],
   "source": [
    "#Quantos homens tem no cadastro?\n",
    "novo_cadastro_df = cadastro_df[['sexo', 'nome']].loc[cadastro_df.sexo == 'm'].replace('m','Homens').groupby('sexo').count()\n",
    "novo_cadastro_df"
   ]
  },
  {
   "cell_type": "code",
   "execution_count": 240,
   "metadata": {},
   "outputs": [
    {
     "data": {
      "text/html": [
       "<div>\n",
       "<style scoped>\n",
       "    .dataframe tbody tr th:only-of-type {\n",
       "        vertical-align: middle;\n",
       "    }\n",
       "\n",
       "    .dataframe tbody tr th {\n",
       "        vertical-align: top;\n",
       "    }\n",
       "\n",
       "    .dataframe thead th {\n",
       "        text-align: right;\n",
       "    }\n",
       "</style>\n",
       "<table border=\"1\" class=\"dataframe\">\n",
       "  <thead>\n",
       "    <tr style=\"text-align: right;\">\n",
       "      <th></th>\n",
       "      <th>nome</th>\n",
       "    </tr>\n",
       "    <tr>\n",
       "      <th>sexo</th>\n",
       "      <th></th>\n",
       "    </tr>\n",
       "  </thead>\n",
       "  <tbody>\n",
       "    <tr>\n",
       "      <th>Mulheres</th>\n",
       "      <td>14</td>\n",
       "    </tr>\n",
       "  </tbody>\n",
       "</table>\n",
       "</div>"
      ],
      "text/plain": [
       "          nome\n",
       "sexo          \n",
       "Mulheres    14"
      ]
     },
     "execution_count": 240,
     "metadata": {},
     "output_type": "execute_result"
    }
   ],
   "source": [
    "#Quantas mulheres tem no cadastro?\n",
    "novo_cadastro_df = cadastro_df[['sexo', 'nome']].loc[cadastro_df.sexo == 'f'].replace('f','Mulheres').groupby('sexo').count()\n",
    "novo_cadastro_df"
   ]
  },
  {
   "cell_type": "code",
   "execution_count": 241,
   "metadata": {},
   "outputs": [
    {
     "name": "stdout",
     "output_type": "stream",
     "text": [
      "A Média das Mulheres com base no ano_nascimento    34.0\n",
      "dtype: float64\n",
      "A Média dos Homens com base no ano_nascimento    32.0\n",
      "dtype: float64\n"
     ]
    }
   ],
   "source": [
    "#Qual a idade média dos homens e das mulheres ?\n",
    "f_idade_df = cadastro_df[[\"ano_nascimento\"]].loc[cadastro_df.sexo == 'f'].mean()\n",
    "m_idade_df = cadastro_df[[\"ano_nascimento\"]].loc[cadastro_df.sexo == 'm'].mean()\n",
    "print('A Média das Mulheres com base no', round(2020 - f_idade_df))\n",
    "print('A Média dos Homens com base no', round(2020 - m_idade_df))"
   ]
  },
  {
   "cell_type": "code",
   "execution_count": 242,
   "metadata": {},
   "outputs": [
    {
     "data": {
      "text/plain": [
       "<matplotlib.axes._subplots.AxesSubplot at 0x1659800f3d0>"
      ]
     },
     "execution_count": 242,
     "metadata": {},
     "output_type": "execute_result"
    },
    {
     "data": {
      "image/png": "[encoded data removed]",
      "text/plain": [
       "<Figure size 432x288 with 1 Axes>"
      ]
     },
     "metadata": {},
     "output_type": "display_data"
    }
   ],
   "source": [
    "#Crie um gráfico de barras e mostre a distribuição de escolaridade no cadastro ?\n",
    "\n",
    "df = pd.read_csv('cadastro - cadastro.csv')\n",
    "cadastro_df = df[['escolaridade']]\n",
    "\n",
    "string_nova = cadastro_df.replace('ensino superior', 'Ensino Superior').replace('ensino médio','Ensino Médio').replace('ensino Médio','Ensino Médio').replace('Ensimo Técnico','Ensino Técnico')\n",
    "string_nova\n",
    "\n",
    "string_nova['qtde'] = 1\n",
    "\n",
    "string_nova[['escolaridade','qtde']].groupby('escolaridade').sum().plot(kind='bar' , title = 'Gráfico de Barra')"
   ]
  },
  {
   "cell_type": "code",
   "execution_count": 243,
   "metadata": {},
   "outputs": [
    {
     "name": "stdout",
     "output_type": "stream",
     "text": [
      "A média salarial do salario até 3 anos    3486.0\n",
      "dtype: float64\n",
      "A média salarial do salário superior a 3 anos    6103.45\n",
      "dtype: float64\n"
     ]
    }
   ],
   "source": [
    "#Mostre a Média Salarial do cadastro ?\n",
    "cad_df = pd.read_csv('cadastro - cadastro.csv')\n",
    "sal_df = pd.read_csv('salario.csv')\n",
    "\n",
    "novo_sal_df = sal_df.rename(columns={\"Profissões\": \"profissão\"}).rename(columns={\"salaior +3 anos\": \"salário superior a 3 anos\"})\n",
    "\n",
    "s_sal_df = novo_sal_df[['profissão','salario até 3 anos']]\n",
    "\n",
    "n_sal_df = novo_sal_df[['profissão','salário superior a 3 anos']]\n",
    "\n",
    "novo_cad_df = cad_df[['nome','profissão']]\n",
    "\n",
    "print('A média salarial do',round(novo_cad_df.merge(s_sal_df, left_on='profissão', right_on='profissão').mean()))\n",
    "\n",
    "print('A média salarial do',round(novo_cad_df.merge(n_sal_df, left_on='profissão', right_on='profissão').mean(),2))\n",
    "\n"
   ]
  },
  {
   "cell_type": "code",
   "execution_count": 246,
   "metadata": {},
   "outputs": [
    {
     "name": "stdout",
     "output_type": "stream",
     "text": [
      "O maior salário até 3 anos é de : 12000\n"
     ]
    },
    {
     "data": {
      "text/html": [
       "<div>\n",
       "<style scoped>\n",
       "    .dataframe tbody tr th:only-of-type {\n",
       "        vertical-align: middle;\n",
       "    }\n",
       "\n",
       "    .dataframe tbody tr th {\n",
       "        vertical-align: top;\n",
       "    }\n",
       "\n",
       "    .dataframe thead th {\n",
       "        text-align: right;\n",
       "    }\n",
       "</style>\n",
       "<table border=\"1\" class=\"dataframe\">\n",
       "  <thead>\n",
       "    <tr style=\"text-align: right;\">\n",
       "      <th></th>\n",
       "      <th>nome</th>\n",
       "      <th>profissão</th>\n",
       "      <th>salario_ate_3_anos</th>\n",
       "    </tr>\n",
       "  </thead>\n",
       "  <tbody>\n",
       "    <tr>\n",
       "      <th>9</th>\n",
       "      <td>Mirtes</td>\n",
       "      <td>Médica</td>\n",
       "      <td>12000</td>\n",
       "    </tr>\n",
       "  </tbody>\n",
       "</table>\n",
       "</div>"
      ],
      "text/plain": [
       "     nome profissão  salario_ate_3_anos\n",
       "9  Mirtes    Médica               12000"
      ]
     },
     "execution_count": 246,
     "metadata": {},
     "output_type": "execute_result"
    }
   ],
   "source": [
    "#Quem tem o maior salário ?\n",
    "cad_df = pd.read_csv('cadastro - cadastro.csv')\n",
    "sal_df = pd.read_csv('salario.csv')\n",
    "\n",
    "novo_sal_df = sal_df.rename(columns={\"Profissões\": \"profissão\"}).rename(columns={\"salaior +3 anos\": \"salario_superior_3_anos\"}).rename(columns={\"salario até 3 anos\": \"salario_ate_3_anos\"})\n",
    "\n",
    "s_sal_df = novo_sal_df[['profissão','salario_ate_3_anos']]\n",
    "\n",
    "n_sal_df = novo_sal_df[['profissão','salario_superior_3_anos']]\n",
    "\n",
    "novo_cad_df = cad_df[['nome','profissão']]\n",
    "\n",
    "\n",
    "max_ate3_df = novo_cad_df.merge(s_sal_df, left_on='profissão', right_on='profissão')\n",
    "max_mais3_df = novo_cad_df.merge(n_sal_df, left_on='profissão', right_on='profissão')\n",
    "\n",
    "print('O maior salário até 3 anos é de :',max_ate3_df['salario_ate_3_anos'].max())\n",
    "\n",
    "max_ate3_df.loc[(max_ate3_df.salario_ate_3_anos == 12000)]\n"
   ]
  },
  {
   "cell_type": "code",
   "execution_count": 247,
   "metadata": {},
   "outputs": [
    {
     "name": "stdout",
     "output_type": "stream",
     "text": [
      "O maior salário superior à 3 anos é de : 20000\n"
     ]
    },
    {
     "data": {
      "text/html": [
       "<div>\n",
       "<style scoped>\n",
       "    .dataframe tbody tr th:only-of-type {\n",
       "        vertical-align: middle;\n",
       "    }\n",
       "\n",
       "    .dataframe tbody tr th {\n",
       "        vertical-align: top;\n",
       "    }\n",
       "\n",
       "    .dataframe thead th {\n",
       "        text-align: right;\n",
       "    }\n",
       "</style>\n",
       "<table border=\"1\" class=\"dataframe\">\n",
       "  <thead>\n",
       "    <tr style=\"text-align: right;\">\n",
       "      <th></th>\n",
       "      <th>nome</th>\n",
       "      <th>profissão</th>\n",
       "      <th>salario_superior_3_anos</th>\n",
       "    </tr>\n",
       "  </thead>\n",
       "  <tbody>\n",
       "    <tr>\n",
       "      <th>9</th>\n",
       "      <td>Mirtes</td>\n",
       "      <td>Médica</td>\n",
       "      <td>20000</td>\n",
       "    </tr>\n",
       "  </tbody>\n",
       "</table>\n",
       "</div>"
      ],
      "text/plain": [
       "     nome profissão  salario_superior_3_anos\n",
       "9  Mirtes    Médica                    20000"
      ]
     },
     "execution_count": 247,
     "metadata": {},
     "output_type": "execute_result"
    }
   ],
   "source": [
    "print('O maior salário superior à 3 anos é de :',max_mais3_df['salario_superior_3_anos'].max())\n",
    "max_mais3_df.loc[max_mais3_df.salario_superior_3_anos == 20000]"
   ]
  },
  {
   "cell_type": "code",
   "execution_count": 248,
   "metadata": {},
   "outputs": [
    {
     "name": "stdout",
     "output_type": "stream",
     "text": [
      "O menor salário até 3 anos é de : 900\n"
     ]
    },
    {
     "data": {
      "text/html": [
       "<div>\n",
       "<style scoped>\n",
       "    .dataframe tbody tr th:only-of-type {\n",
       "        vertical-align: middle;\n",
       "    }\n",
       "\n",
       "    .dataframe tbody tr th {\n",
       "        vertical-align: top;\n",
       "    }\n",
       "\n",
       "    .dataframe thead th {\n",
       "        text-align: right;\n",
       "    }\n",
       "</style>\n",
       "<table border=\"1\" class=\"dataframe\">\n",
       "  <thead>\n",
       "    <tr style=\"text-align: right;\">\n",
       "      <th></th>\n",
       "      <th>nome</th>\n",
       "      <th>profissão</th>\n",
       "      <th>salario_ate_3_anos</th>\n",
       "    </tr>\n",
       "  </thead>\n",
       "  <tbody>\n",
       "    <tr>\n",
       "      <th>4</th>\n",
       "      <td>Vilma</td>\n",
       "      <td>caixa de mercado</td>\n",
       "      <td>900</td>\n",
       "    </tr>\n",
       "  </tbody>\n",
       "</table>\n",
       "</div>"
      ],
      "text/plain": [
       "    nome         profissão  salario_ate_3_anos\n",
       "4  Vilma  caixa de mercado                 900"
      ]
     },
     "execution_count": 248,
     "metadata": {},
     "output_type": "execute_result"
    }
   ],
   "source": [
    "cad_df = pd.read_csv('cadastro - cadastro.csv')\n",
    "sal_df = pd.read_csv('salario.csv')\n",
    "\n",
    "novo_sal_df = sal_df.rename(columns={\"Profissões\": \"profissão\"}).rename(columns={\"salaior +3 anos\": \"salario_superior_3_anos\"}).rename(columns={\"salario até 3 anos\": \"salario_ate_3_anos\"})\n",
    "\n",
    "filtro  = novo_sal_df['salario_ate_3_anos'] > 1\n",
    "minimo_df = novo_sal_df[filtro]\n",
    "minimo_df\n",
    "s_sal_df = minimo_df[['profissão','salario_ate_3_anos']]\n",
    "\n",
    "n_sal_df = minimo_df[['profissão','salario_superior_3_anos']]\n",
    "\n",
    "minimo_df = cad_df[['nome','profissão']]\n",
    "\n",
    "\n",
    "min_ate3_df = minimo_df.merge(s_sal_df, left_on='profissão', right_on='profissão')\n",
    "min_mais3_df = minimo_df.merge(n_sal_df, left_on='profissão', right_on='profissão')\n",
    "\n",
    "print('O menor salário até 3 anos é de :',min_ate3_df['salario_ate_3_anos'].min())\n",
    "min_ate3_df.loc[min_ate3_df.salario_ate_3_anos == 900]"
   ]
  },
  {
   "cell_type": "code",
   "execution_count": 249,
   "metadata": {},
   "outputs": [
    {
     "name": "stdout",
     "output_type": "stream",
     "text": [
      "O menor salário superior a 3 anos é de : 1200\n"
     ]
    },
    {
     "data": {
      "text/html": [
       "<div>\n",
       "<style scoped>\n",
       "    .dataframe tbody tr th:only-of-type {\n",
       "        vertical-align: middle;\n",
       "    }\n",
       "\n",
       "    .dataframe tbody tr th {\n",
       "        vertical-align: top;\n",
       "    }\n",
       "\n",
       "    .dataframe thead th {\n",
       "        text-align: right;\n",
       "    }\n",
       "</style>\n",
       "<table border=\"1\" class=\"dataframe\">\n",
       "  <thead>\n",
       "    <tr style=\"text-align: right;\">\n",
       "      <th></th>\n",
       "      <th>nome</th>\n",
       "      <th>profissão</th>\n",
       "      <th>salario_superior_3_anos</th>\n",
       "    </tr>\n",
       "  </thead>\n",
       "  <tbody>\n",
       "    <tr>\n",
       "      <th>1</th>\n",
       "      <td>Maria</td>\n",
       "      <td>dona de casa</td>\n",
       "      <td>1200</td>\n",
       "    </tr>\n",
       "    <tr>\n",
       "      <th>4</th>\n",
       "      <td>Vilma</td>\n",
       "      <td>caixa de mercado</td>\n",
       "      <td>1200</td>\n",
       "    </tr>\n",
       "  </tbody>\n",
       "</table>\n",
       "</div>"
      ],
      "text/plain": [
       "    nome         profissão  salario_superior_3_anos\n",
       "1  Maria      dona de casa                     1200\n",
       "4  Vilma  caixa de mercado                     1200"
      ]
     },
     "execution_count": 249,
     "metadata": {},
     "output_type": "execute_result"
    }
   ],
   "source": [
    "print('O menor salário superior a 3 anos é de :',min_mais3_df['salario_superior_3_anos'].min())\n",
    "min_mais3_df.loc[min_mais3_df.salario_superior_3_anos == 1200]"
   ]
  },
  {
   "cell_type": "code",
   "execution_count": 250,
   "metadata": {},
   "outputs": [
    {
     "name": "stdout",
     "output_type": "stream",
     "text": [
      "Existem 4 pessoas que gostam de \"caminhar\", são elas:\n",
      "Marta,da Silva,1983,f,São Caetano,Auxiliar de Enfermagem,2,Solteira,0,caminhar,sim,crossfit,4,não,Ensimo Tecnico\n",
      "\n",
      "Marcela,Santos,1987,f,Pernanbuco,Não informado,0,Viuvo,0,caminhar,não,-,0,sim,Ensino Médio\n",
      "\n",
      "Patricia,Alburquerque,1982,f,Santa Catarina,Professora,5,Casada,2,\"caminhar, ficar com os filhos\",sim,zumba,2,sim,ensino superior\n",
      "\n",
      "Matias,do Campo,1992,m,São Paulo,Gerente Financeiro,1,Divorciada,1,\"caminhar, ler livros e ficar com o filho\",sim,crossfit,3,sim,ensino superior\n",
      "\n"
     ]
    }
   ],
   "source": [
    "#Quantas pessoas gostam de caminhar no final de semana ?\n",
    "\n",
    "with open (\"cadastro - cadastro.csv\",\"r\", encoding = 'utf-8') as arq:\n",
    "    ocorrencias = arq.read().count('caminhar')\n",
    "print('Existem' ,ocorrencias, 'pessoas que gostam de \"caminhar\", são elas:')\n",
    "\n",
    "with open(\"cadastro - cadastro.csv\",\"r\", encoding = 'utf-8') as arq:\n",
    "    for f in arq.readlines():\n",
    "        if(f.find('caminhar')>-1):\n",
    "            print(f)"
   ]
  },
  {
   "cell_type": "code",
   "execution_count": 251,
   "metadata": {},
   "outputs": [
    {
     "data": {
      "text/plain": [
       "<matplotlib.axes._subplots.AxesSubplot at 0x165985c46d0>"
      ]
     },
     "execution_count": 251,
     "metadata": {},
     "output_type": "execute_result"
    },
    {
     "data": {
      "image/png": "[encoded data removed]",
      "text/plain": [
       "<Figure size 432x288 with 1 Axes>"
      ]
     },
     "metadata": {},
     "output_type": "display_data"
    }
   ],
   "source": [
    "#Crie um gráfico mostrando entre a relação de escolaridade e quem pratica esporte ?\n",
    "import numpy as np\n",
    "import matplotlib.pyplot as plt\n",
    "df = pd.read_csv('cadastro - cadastro.csv')\n",
    "cadastro_df = df[['escolaridade','pratica_esporte']]\n",
    "\n",
    "string_nova = cadastro_df.replace('ensino superior', 'Ensino Superior').replace('ensino médio','Ensino Médio').replace('ensino Médio','Ensino Médio').replace('Ensimo Técnico','Ensino Técnico').replace('NaN','não')\n",
    "\n",
    "crosstab_vg = pd.crosstab(string_nova['pratica_esporte'],string_nova['escolaridade'])\n",
    "\n",
    "crosstab_vg['total'] = crosstab_vg.sum(axis=1)\n",
    "crosstab_vg.plot(kind='bar' , title = 'Relação Escolaridade X Pratica Esporte', color = ['#000000','#AAAAAA','#FF0000','#00BFFF'])\n",
    "\n",
    "\n",
    "\n"
   ]
  },
  {
   "cell_type": "code",
   "execution_count": 252,
   "metadata": {},
   "outputs": [
    {
     "data": {
      "text/plain": [
       "<matplotlib.axes._subplots.AxesSubplot at 0x16598635ac0>"
      ]
     },
     "execution_count": 252,
     "metadata": {},
     "output_type": "execute_result"
    },
    {
     "data": {
      "image/png": "[encoded data removed]",
      "text/plain": [
       "<Figure size 720x576 with 2 Axes>"
      ]
     },
     "metadata": {},
     "output_type": "display_data"
    }
   ],
   "source": [
    "#Crie um mapa de calor?\n",
    "from string import ascii_letters\n",
    "import numpy as np\n",
    "import pandas as pd\n",
    "import seaborn as sb\n",
    "import matplotlib.pyplot as plt\n",
    "\n",
    "df = pd.read_csv('cadastro - cadastro.csv')\n",
    "\n",
    "mapa_df = pd.crosstab(df['nome'],df['quanta_vezes_na_semana_pratica_esporte'])\n",
    "\n",
    "mapa_df['total'] = mapa_df.sum(axis=1)\n",
    "\n",
    "corr = mapa_df.corr()\n",
    "\n",
    "mask = np.triu(np.ones_like(corr, dtype=bool))\n",
    "\n",
    "f, ax = plt.subplots(figsize=(10, 8))\n",
    "\n",
    "sb.heatmap(corr, mask=mask, vmax=.3, center=0,\n",
    "            square=True, linewidths=.5, cbar_kws={\"shrink\": .5})"
   ]
  },
  {
   "cell_type": "code",
   "execution_count": 253,
   "metadata": {},
   "outputs": [
    {
     "name": "stderr",
     "output_type": "stream",
     "text": [
      "<ipython-input-253-6803f1d82fe5>:6: SettingWithCopyWarning: \n",
      "A value is trying to be set on a copy of a slice from a DataFrame.\n",
      "Try using .loc[row_indexer,col_indexer] = value instead\n",
      "\n",
      "See the caveats in the documentation: https://pandas.pydata.org/pandas-docs/stable/user_guide/indexing.html#returning-a-view-versus-a-copy\n",
      "  cadastro_df['qtde'] = 1\n"
     ]
    },
    {
     "data": {
      "text/plain": [
       "<matplotlib.axes._subplots.AxesSubplot at 0x1659860d400>"
      ]
     },
     "execution_count": 253,
     "metadata": {},
     "output_type": "execute_result"
    },
    {
     "data": {
      "image/png": "[encoded data removed]",
      "text/plain": [
       "<Figure size 432x288 with 1 Axes>"
      ]
     },
     "metadata": {},
     "output_type": "display_data"
    }
   ],
   "source": [
    "#Mostre de forma gráfica a distribuição de estados do cadastro ?\n",
    "\n",
    "df = pd.read_csv('cadastro - cadastro.csv')\n",
    "cadastro_df = df[['cidade']]\n",
    "\n",
    "cadastro_df['qtde'] = 1\n",
    "\n",
    "cadastro_df[['qtde','cidade']].groupby('cidade').sum().plot(kind='bar' , title = 'Gráfico de Barra', color = \"red\")"
   ]
  },
  {
   "cell_type": "code",
   "execution_count": null,
   "metadata": {},
   "outputs": [],
   "source": []
  }
 ],
 "metadata": {
  "kernelspec": {
   "display_name": "Python 3",
   "language": "python",
   "name": "python3"
  },
  "language_info": {
   "codemirror_mode": {
    "name": "ipython",
    "version": 3
   },
   "file_extension": ".py",
   "mimetype": "text/x-python",
   "name": "python",
   "nbconvert_exporter": "python",
   "pygments_lexer": "ipython3",
   "version": "3.8.3"
  }
 },
 "nbformat": 4,
 "nbformat_minor": 4
}
